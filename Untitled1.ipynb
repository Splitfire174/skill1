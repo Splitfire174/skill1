{
 "cells": [
  {
   "cell_type": "code",
   "execution_count": null,
   "id": "d45fe469-b55c-43bf-bbb0-1ddb8cf31ea3",
   "metadata": {
    "tags": []
   },
   "outputs": [
    {
     "name": "stdout",
     "output_type": "stream",
     "text": [
      "-------------------\n",
      "  Приветсвуем вас  \n",
      "      в игре       \n",
      "  крестики-нолики  \n",
      "-------------------\n",
      "  0 1 2\n",
      "0      \n",
      "1      \n",
      "2      \n",
      " Ходит крестик!\n"
     ]
    },
    {
     "name": "stdin",
     "output_type": "stream",
     "text": [
      "         Ваш ход:  1 1\n"
     ]
    },
    {
     "name": "stdout",
     "output_type": "stream",
     "text": [
      "  0 1 2\n",
      "0      \n",
      "1   X  \n",
      "2      \n",
      " Ходит нолик!\n"
     ]
    },
    {
     "name": "stdin",
     "output_type": "stream",
     "text": [
      "         Ваш ход:  1 1\n"
     ]
    },
    {
     "name": "stdout",
     "output_type": "stream",
     "text": [
      " Занято! \n"
     ]
    },
    {
     "name": "stdin",
     "output_type": "stream",
     "text": [
      "         Ваш ход:  2 2\n"
     ]
    },
    {
     "name": "stdout",
     "output_type": "stream",
     "text": [
      "  0 1 2\n",
      "0      \n",
      "1   X  \n",
      "2     0\n",
      " Ходит крестик!\n"
     ]
    }
   ],
   "source": [
    "def greet():\n",
    "    print(\"-------------------\")\n",
    "    print(\"  Приветсвуем вас  \")\n",
    "    print(\"      в игре       \")\n",
    "    print(\"  крестики-нолики  \")\n",
    "    print(\"-------------------\")\n",
    "\n",
    "field = [[\" \"] * 3 for i in range(3) ]\n",
    "def show():\n",
    "    print(f\"  0 1 2\")\n",
    "    for i in range(3):\n",
    "        row_info = \" \".join(field[i])\n",
    "        print(f\"{i} {row_info}\")\n",
    "def ask():\n",
    "    x, y = map(int, input(\"         Ваш ход: \").split())\n",
    "    return x, y\n",
    "def ask():\n",
    "    while True:\n",
    "        x, y = map(int, input(\"         Ваш ход: \").split())\n",
    "        \n",
    "        if 0 > x or x > 2 or  0 > y or  y > 2 :\n",
    "            print(\" Координаты вне диапазона! \")\n",
    "            continue\n",
    "        \n",
    "        if field[x][y] != \" \":\n",
    "            print(\" Клетка занята! \")\n",
    "            continue\n",
    "        \n",
    "        return x, y\n",
    "def ask():\n",
    "    while True:\n",
    "        cords = input(\"         Ваш ход: \").split()\n",
    "        \n",
    "        if len(cords) != 2:\n",
    "            print(\" Должно быть 2 координаты! \")\n",
    "            continue\n",
    "        \n",
    "        x, y = cords\n",
    "        \n",
    "        if not(x.isdigit()) or not(y.isdigit()):\n",
    "            print(\" Введите числа от 0 до 2! \")\n",
    "            continue\n",
    "        \n",
    "        x, y = int(x), int(y)\n",
    "        \n",
    "        if 0 > x or x > 2 or  0 > y or  y > 2 :\n",
    "            print(\" Координаты вне диапазона! \")\n",
    "            continue\n",
    "        \n",
    "        if field[x][y] != \" \":\n",
    "            print(\" Занято! \")\n",
    "            continue\n",
    "        \n",
    "        return x, y\n",
    "def check_win():\n",
    "    win_cord = (((0, 0), (0, 1), (0, 2)), ((1, 0), (1, 1), (1, 2)), ((2, 0), (2, 1), (2, 2)),\n",
    "                ((0, 2), (1, 1), (2, 0)), ((0, 0), (1, 1), (2, 2)), ((0, 0), (1, 0), (2, 0)),\n",
    "                ((0, 1), (1, 1), (2, 1)), ((0, 2), (1, 2), (2, 2)))\n",
    "    for cord in win_cord:\n",
    "        symbols = []\n",
    "        for c in cord:\n",
    "            symbols.append(field[c[0]][c[1]])\n",
    "        if symbols == [\"X\", \"X\", \"X\"]:\n",
    "            print(\"Победа X!!!\")\n",
    "            return True\n",
    "        if symbols == [\"0\", \"0\", \"0\"]:\n",
    "            print(\"Победа 0!!!\")\n",
    "            return True\n",
    "    return False\n",
    "\n",
    "field = [\n",
    "    [\" \", \"X\", \" \"],\n",
    "    [\" \", \"X\", \" \"],\n",
    "    [\" \", \"X\", \" \"]\n",
    "]\n",
    "greet()\n",
    "field = [[\" \"] * 3 for i in range(3) ]\n",
    "count = 0\n",
    "while True:\n",
    "    count += 1\n",
    "    show()\n",
    "    if count % 2 == 1:\n",
    "        print(\" Ходит крестик!\")\n",
    "    else:\n",
    "        print(\" Ходит нолик!\")\n",
    "    \n",
    "    x, y = ask()\n",
    "    \n",
    "    if count % 2 == 1:\n",
    "        field[x][y] = \"X\"\n",
    "    else:\n",
    "        field[x][y] = \"0\"\n",
    "    \n",
    "    if check_win():\n",
    "        break\n",
    "    \n",
    "    if count == 9:\n",
    "        print(\" Ничья!\")\n",
    "        break"
   ]
  },
  {
   "cell_type": "code",
   "execution_count": null,
   "id": "7b6d5bb3-5d41-4cc8-a6a5-c29449590eb7",
   "metadata": {},
   "outputs": [],
   "source": []
  }
 ],
 "metadata": {
  "kernelspec": {
   "display_name": "Python 3 (ipykernel)",
   "language": "python",
   "name": "python3"
  },
  "language_info": {
   "codemirror_mode": {
    "name": "ipython",
    "version": 3
   },
   "file_extension": ".py",
   "mimetype": "text/x-python",
   "name": "python",
   "nbconvert_exporter": "python",
   "pygments_lexer": "ipython3",
   "version": "3.10.0"
  }
 },
 "nbformat": 4,
 "nbformat_minor": 5
}
